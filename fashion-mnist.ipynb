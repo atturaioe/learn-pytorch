{
 "cells": [
  {
   "cell_type": "code",
   "execution_count": 1,
   "metadata": {},
   "outputs": [],
   "source": [
    "import numpy as np\n",
    "import matplotlib.pyplot as plt\n",
    "\n",
    "import torch\n",
    "import torch.optim as optim\n",
    "import torch.nn.functional as F\n",
    "\n",
    "import torchvision\n",
    "import torchvision.transforms as transforms\n",
    "from torch.utils.data import DataLoader\n",
    "\n",
    "from model import Network\n",
    "\n",
    "torch.set_printoptions(linewidth=120)\n",
    "\n",
    "%load_ext autoreload\n",
    "%autoreload 2"
   ]
  },
  {
   "cell_type": "code",
   "execution_count": 2,
   "metadata": {},
   "outputs": [],
   "source": [
    "def imshow(img):\n",
    "    npimg = img.numpy()\n",
    "    plt.subplots(figsize=(20, 20))\n",
    "    plt.imshow(np.transpose(npimg, (1, 2, 0)))\n",
    "    plt.show()"
   ]
  },
  {
   "cell_type": "markdown",
   "metadata": {},
   "source": [
    "### Loading data"
   ]
  },
  {
   "cell_type": "code",
   "execution_count": 3,
   "metadata": {},
   "outputs": [],
   "source": [
    "train_set = torchvision.datasets.FashionMNIST(\n",
    "    root='./data'\n",
    "    ,train=True\n",
    "    ,download=True\n",
    "    ,transform=transforms.Compose([\n",
    "        transforms.ToTensor()\n",
    "    ])\n",
    ")\n",
    "test_set = torchvision.datasets.FashionMNIST(\n",
    "    root='./data'\n",
    "    ,train=False\n",
    "    ,download=True\n",
    "    ,transform=transforms.Compose([\n",
    "        transforms.ToTensor()\n",
    "    ])\n",
    ")\n",
    "\n",
    "classes = np.array(torchvision.datasets.FashionMNIST.classes)\n",
    "train_loader = DataLoader(train_set, shuffle=False, batch_size=500, num_workers=1)\n",
    "test_loader = DataLoader(test_set, shuffle=False, batch_size=8, num_workers=1)"
   ]
  },
  {
   "cell_type": "markdown",
   "metadata": {},
   "source": [
    "###  Dataset visualization"
   ]
  },
  {
   "cell_type": "code",
   "execution_count": 4,
   "metadata": {},
   "outputs": [
    {
     "data": {
      "image/png": "[encoded data removed]",
      "text/plain": [
       "<Figure size 1440x1440 with 1 Axes>"
      ]
     },
     "metadata": {
      "needs_background": "light"
     },
     "output_type": "display_data"
    },
    {
     "name": "stdout",
     "output_type": "stream",
     "text": [
      "Ground truth vector ['Ankle boot' 'Pullover' 'Trouser' 'Trouser' 'Shirt' 'Trouser' 'Coat'\n",
      " 'Shirt']\n"
     ]
    }
   ],
   "source": [
    "images, targets = next(iter(test_loader))\n",
    "imshow(torchvision.utils.make_grid(images, nrow=10))\n",
    "print(f'Ground truth vector {classes[targets]}')"
   ]
  },
  {
   "cell_type": "code",
   "execution_count": 5,
   "metadata": {},
   "outputs": [],
   "source": [
    "def train(model, loader, optimizer):\n",
    "    for batch, labels in loader:\n",
    "        \n",
    "        output = model(batch) #pass batch\n",
    "        loss = F.cross_entropy(output, labels)\n",
    "        \n",
    "        optimizer.zero_grad() #set the gradients to zero\n",
    "        loss.backward() #calculate gradients\n",
    "        optimizer.step() #update weights\n",
    "        \n",
    "    return loss.item()\n",
    "\n",
    "@torch.no_grad()\n",
    "def evaluate(model, loader):\n",
    "    correct, total = 0, 0\n",
    "    model.eval()\n",
    "    \n",
    "    for batch, labels in loader:\n",
    "        output = model(batch)\n",
    "        correct += output.argmax(dim=1).eq(labels).sum().item() #sum up the the correct predictions\n",
    "        total += labels.size(0)\n",
    "            \n",
    "    return 100 * correct / total \n",
    "\n",
    "def train_stats(epoch, train_loss, train_accuracy, test_accuracy):\n",
    "    print(f\"\"\"\n",
    "            Epoch {epoch}:\n",
    "            Train loss = {train_loss}, Train accuracy = {train_accuracy} || Test accuracy = {test_accuracy}\n",
    "            \"\"\"\n",
    "         )\n",
    "    \n",
    "@torch.no_grad()\n",
    "def predict(model, loader):\n",
    "    for batch, labels in loader:\n",
    "        output = model(batch)\n",
    "        yield output.argmax(dim=1)"
   ]
  },
  {
   "cell_type": "markdown",
   "metadata": {},
   "source": [
    "### Train/Test"
   ]
  },
  {
   "cell_type": "code",
   "execution_count": 6,
   "metadata": {},
   "outputs": [
    {
     "name": "stdout",
     "output_type": "stream",
     "text": [
      "\n",
      "            Epoch 0:\n",
      "            Train loss = 0.5211261510848999, Train accuracy = 79.82 || Test accuracy = 79.04\n",
      "            \n",
      "\n",
      "            Epoch 1:\n",
      "            Train loss = 0.4006592035293579, Train accuracy = 84.95 || Test accuracy = 84.19\n",
      "            \n",
      "\n",
      "            Epoch 2:\n",
      "            Train loss = 0.3444928824901581, Train accuracy = 86.93833333333333 || Test accuracy = 86.21\n",
      "            \n",
      "\n",
      "            Epoch 3:\n",
      "            Train loss = 0.32735708355903625, Train accuracy = 87.45 || Test accuracy = 86.24\n",
      "            \n",
      "\n",
      "            Epoch 4:\n",
      "            Train loss = 0.33321526646614075, Train accuracy = 87.58333333333333 || Test accuracy = 86.33\n",
      "            \n",
      "\n",
      "            Epoch 5:\n",
      "            Train loss = 0.30752742290496826, Train accuracy = 87.87166666666667 || Test accuracy = 86.17\n",
      "            \n",
      "\n",
      "            Epoch 6:\n",
      "            Train loss = 0.288346529006958, Train accuracy = 88.495 || Test accuracy = 86.75\n",
      "            \n",
      "\n",
      "            Epoch 7:\n",
      "            Train loss = 0.2935348451137543, Train accuracy = 89.16 || Test accuracy = 87.79\n",
      "            \n",
      "\n",
      "            Epoch 8:\n",
      "            Train loss = 0.2992081344127655, Train accuracy = 89.37833333333333 || Test accuracy = 87.79\n",
      "            \n",
      "\n",
      "            Epoch 9:\n",
      "            Train loss = 0.29132020473480225, Train accuracy = 90.12 || Test accuracy = 87.95\n",
      "            \n"
     ]
    }
   ],
   "source": [
    "import warnings\n",
    "warnings.filterwarnings(\"ignore\", category=UserWarning)\n",
    "\n",
    "network = Network()\n",
    "optimizer = optim.Adam(network.parameters(), lr=0.01)\n",
    "\n",
    "for epoch in range(10):\n",
    "    train_loss = train(network, train_loader, optimizer)\n",
    "    train_accuracy = evaluate(network, train_loader)\n",
    "    test_accuracy = evaluate(network, test_loader)\n",
    "    train_stats(epoch, train_loss, train_accuracy, test_accuracy)"
   ]
  },
  {
   "cell_type": "markdown",
   "metadata": {},
   "source": [
    "### Inference"
   ]
  },
  {
   "cell_type": "code",
   "execution_count": 7,
   "metadata": {
    "scrolled": false
   },
   "outputs": [
    {
     "data": {
      "image/png": "[encoded data removed]",
      "text/plain": [
       "<Figure size 1440x1440 with 1 Axes>"
      ]
     },
     "metadata": {
      "needs_background": "light"
     },
     "output_type": "display_data"
    },
    {
     "name": "stdout",
     "output_type": "stream",
     "text": [
      "Predictions ['Ankle boot' 'Pullover' 'Trouser' 'Trouser' 'Shirt' 'Trouser' 'Coat'\n",
      " 'Shirt']\n"
     ]
    }
   ],
   "source": [
    "preds = next(predict(network, test_loader))\n",
    "imshow(torchvision.utils.make_grid(images, nrow=10))\n",
    "print(f'Predictions {classes[preds]}')"
   ]
  }
 ],
 "metadata": {
  "kernelspec": {
   "display_name": "Python 3",
   "language": "python",
   "name": "python3"
  },
  "language_info": {
   "codemirror_mode": {
    "name": "ipython",
    "version": 3
   },
   "file_extension": ".py",
   "mimetype": "text/x-python",
   "name": "python",
   "nbconvert_exporter": "python",
   "pygments_lexer": "ipython3",
   "version": "3.8.3"
  }
 },
 "nbformat": 4,
 "nbformat_minor": 4
}
